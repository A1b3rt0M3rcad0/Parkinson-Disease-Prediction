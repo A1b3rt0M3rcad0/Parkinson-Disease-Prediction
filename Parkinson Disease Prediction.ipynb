{
 "cells": [
  {
   "cell_type": "markdown",
   "id": "5dc29ca0-d20f-4f60-bbd5-333a1928cf02",
   "metadata": {},
   "source": [
    "# Importando bibliotecas"
   ]
  },
  {
   "cell_type": "code",
   "execution_count": 136,
   "id": "896c1820-35b8-4d14-9489-e88dfd58d214",
   "metadata": {},
   "outputs": [],
   "source": [
    "import numpy as np\n",
    "import pandas as pd\n",
    "import matplotlib.pyplot as plt\n",
    "import seaborn as sns\n",
    "from imblearn.over_sampling import RandomOverSampler\n",
    "from sklearn.model_selection import train_test_split\n",
    "from sklearn.preprocessing import MinMaxScaler\n",
    "from sklearn.feature_selection import SelectKBest, chi2\n",
    "from sklearn import metrics\n",
    "from sklearn.svm import SVC\n",
    "from xgboost import XGBClassifier\n",
    "from sklearn.linear_model import LogisticRegression\n",
    "\n",
    "import warnings\n",
    "warnings.simplefilter('ignore')"
   ]
  },
  {
   "cell_type": "markdown",
   "id": "edbb2cbf-7193-4f1c-9b5d-7d9b19cbfc02",
   "metadata": {},
   "source": [
    "# Carregando base de dados"
   ]
  },
  {
   "cell_type": "markdown",
   "id": "68142757-1aa5-40fd-a951-278915340e60",
   "metadata": {},
   "source": [
    "https://www.kaggle.com/datasets/debasisdotcom/parkinson-disease-detection"
   ]
  },
  {
   "cell_type": "code",
   "execution_count": 137,
   "id": "4d8a9bf4-b88c-43ef-bfb7-1fd7658370a4",
   "metadata": {},
   "outputs": [],
   "source": [
    "df = pd.read_csv('dataset/parkinson_disease.csv')"
   ]
  },
  {
   "cell_type": "code",
   "execution_count": 138,
   "id": "ac4ddf29-985c-4f6e-b4e3-3d926d937d3f",
   "metadata": {},
   "outputs": [
    {
     "data": {
      "text/html": [
       "<div>\n",
       "<style scoped>\n",
       "    .dataframe tbody tr th:only-of-type {\n",
       "        vertical-align: middle;\n",
       "    }\n",
       "\n",
       "    .dataframe tbody tr th {\n",
       "        vertical-align: top;\n",
       "    }\n",
       "\n",
       "    .dataframe thead th {\n",
       "        text-align: right;\n",
       "    }\n",
       "</style>\n",
       "<table border=\"1\" class=\"dataframe\">\n",
       "  <thead>\n",
       "    <tr style=\"text-align: right;\">\n",
       "      <th></th>\n",
       "      <th>name</th>\n",
       "      <th>MDVP:Fo(Hz)</th>\n",
       "      <th>MDVP:Fhi(Hz)</th>\n",
       "      <th>MDVP:Flo(Hz)</th>\n",
       "      <th>MDVP:Jitter(%)</th>\n",
       "      <th>MDVP:Jitter(Abs)</th>\n",
       "      <th>MDVP:RAP</th>\n",
       "      <th>MDVP:PPQ</th>\n",
       "      <th>Jitter:DDP</th>\n",
       "      <th>MDVP:Shimmer</th>\n",
       "      <th>...</th>\n",
       "      <th>Shimmer:DDA</th>\n",
       "      <th>NHR</th>\n",
       "      <th>HNR</th>\n",
       "      <th>status</th>\n",
       "      <th>RPDE</th>\n",
       "      <th>DFA</th>\n",
       "      <th>spread1</th>\n",
       "      <th>spread2</th>\n",
       "      <th>D2</th>\n",
       "      <th>PPE</th>\n",
       "    </tr>\n",
       "  </thead>\n",
       "  <tbody>\n",
       "    <tr>\n",
       "      <th>0</th>\n",
       "      <td>phon_R01_S01_1</td>\n",
       "      <td>119.992</td>\n",
       "      <td>157.302</td>\n",
       "      <td>74.997</td>\n",
       "      <td>0.00784</td>\n",
       "      <td>0.00007</td>\n",
       "      <td>0.00370</td>\n",
       "      <td>0.00554</td>\n",
       "      <td>0.01109</td>\n",
       "      <td>0.04374</td>\n",
       "      <td>...</td>\n",
       "      <td>0.06545</td>\n",
       "      <td>0.02211</td>\n",
       "      <td>21.033</td>\n",
       "      <td>1</td>\n",
       "      <td>0.414783</td>\n",
       "      <td>0.815285</td>\n",
       "      <td>-4.813031</td>\n",
       "      <td>0.266482</td>\n",
       "      <td>2.301442</td>\n",
       "      <td>0.284654</td>\n",
       "    </tr>\n",
       "    <tr>\n",
       "      <th>1</th>\n",
       "      <td>phon_R01_S01_2</td>\n",
       "      <td>122.400</td>\n",
       "      <td>148.650</td>\n",
       "      <td>113.819</td>\n",
       "      <td>0.00968</td>\n",
       "      <td>0.00008</td>\n",
       "      <td>0.00465</td>\n",
       "      <td>0.00696</td>\n",
       "      <td>0.01394</td>\n",
       "      <td>0.06134</td>\n",
       "      <td>...</td>\n",
       "      <td>0.09403</td>\n",
       "      <td>0.01929</td>\n",
       "      <td>19.085</td>\n",
       "      <td>1</td>\n",
       "      <td>0.458359</td>\n",
       "      <td>0.819521</td>\n",
       "      <td>-4.075192</td>\n",
       "      <td>0.335590</td>\n",
       "      <td>2.486855</td>\n",
       "      <td>0.368674</td>\n",
       "    </tr>\n",
       "    <tr>\n",
       "      <th>2</th>\n",
       "      <td>phon_R01_S01_3</td>\n",
       "      <td>116.682</td>\n",
       "      <td>131.111</td>\n",
       "      <td>111.555</td>\n",
       "      <td>0.01050</td>\n",
       "      <td>0.00009</td>\n",
       "      <td>0.00544</td>\n",
       "      <td>0.00781</td>\n",
       "      <td>0.01633</td>\n",
       "      <td>0.05233</td>\n",
       "      <td>...</td>\n",
       "      <td>0.08270</td>\n",
       "      <td>0.01309</td>\n",
       "      <td>20.651</td>\n",
       "      <td>1</td>\n",
       "      <td>0.429895</td>\n",
       "      <td>0.825288</td>\n",
       "      <td>-4.443179</td>\n",
       "      <td>0.311173</td>\n",
       "      <td>2.342259</td>\n",
       "      <td>0.332634</td>\n",
       "    </tr>\n",
       "    <tr>\n",
       "      <th>3</th>\n",
       "      <td>phon_R01_S01_4</td>\n",
       "      <td>116.676</td>\n",
       "      <td>137.871</td>\n",
       "      <td>111.366</td>\n",
       "      <td>0.00997</td>\n",
       "      <td>0.00009</td>\n",
       "      <td>0.00502</td>\n",
       "      <td>0.00698</td>\n",
       "      <td>0.01505</td>\n",
       "      <td>0.05492</td>\n",
       "      <td>...</td>\n",
       "      <td>0.08771</td>\n",
       "      <td>0.01353</td>\n",
       "      <td>20.644</td>\n",
       "      <td>1</td>\n",
       "      <td>0.434969</td>\n",
       "      <td>0.819235</td>\n",
       "      <td>-4.117501</td>\n",
       "      <td>0.334147</td>\n",
       "      <td>2.405554</td>\n",
       "      <td>0.368975</td>\n",
       "    </tr>\n",
       "    <tr>\n",
       "      <th>4</th>\n",
       "      <td>phon_R01_S01_5</td>\n",
       "      <td>116.014</td>\n",
       "      <td>141.781</td>\n",
       "      <td>110.655</td>\n",
       "      <td>0.01284</td>\n",
       "      <td>0.00011</td>\n",
       "      <td>0.00655</td>\n",
       "      <td>0.00908</td>\n",
       "      <td>0.01966</td>\n",
       "      <td>0.06425</td>\n",
       "      <td>...</td>\n",
       "      <td>0.10470</td>\n",
       "      <td>0.01767</td>\n",
       "      <td>19.649</td>\n",
       "      <td>1</td>\n",
       "      <td>0.417356</td>\n",
       "      <td>0.823484</td>\n",
       "      <td>-3.747787</td>\n",
       "      <td>0.234513</td>\n",
       "      <td>2.332180</td>\n",
       "      <td>0.410335</td>\n",
       "    </tr>\n",
       "  </tbody>\n",
       "</table>\n",
       "<p>5 rows × 24 columns</p>\n",
       "</div>"
      ],
      "text/plain": [
       "             name  MDVP:Fo(Hz)  MDVP:Fhi(Hz)  MDVP:Flo(Hz)  MDVP:Jitter(%)  \\\n",
       "0  phon_R01_S01_1      119.992       157.302        74.997         0.00784   \n",
       "1  phon_R01_S01_2      122.400       148.650       113.819         0.00968   \n",
       "2  phon_R01_S01_3      116.682       131.111       111.555         0.01050   \n",
       "3  phon_R01_S01_4      116.676       137.871       111.366         0.00997   \n",
       "4  phon_R01_S01_5      116.014       141.781       110.655         0.01284   \n",
       "\n",
       "   MDVP:Jitter(Abs)  MDVP:RAP  MDVP:PPQ  Jitter:DDP  MDVP:Shimmer  ...  \\\n",
       "0           0.00007   0.00370   0.00554     0.01109       0.04374  ...   \n",
       "1           0.00008   0.00465   0.00696     0.01394       0.06134  ...   \n",
       "2           0.00009   0.00544   0.00781     0.01633       0.05233  ...   \n",
       "3           0.00009   0.00502   0.00698     0.01505       0.05492  ...   \n",
       "4           0.00011   0.00655   0.00908     0.01966       0.06425  ...   \n",
       "\n",
       "   Shimmer:DDA      NHR     HNR  status      RPDE       DFA   spread1  \\\n",
       "0      0.06545  0.02211  21.033       1  0.414783  0.815285 -4.813031   \n",
       "1      0.09403  0.01929  19.085       1  0.458359  0.819521 -4.075192   \n",
       "2      0.08270  0.01309  20.651       1  0.429895  0.825288 -4.443179   \n",
       "3      0.08771  0.01353  20.644       1  0.434969  0.819235 -4.117501   \n",
       "4      0.10470  0.01767  19.649       1  0.417356  0.823484 -3.747787   \n",
       "\n",
       "    spread2        D2       PPE  \n",
       "0  0.266482  2.301442  0.284654  \n",
       "1  0.335590  2.486855  0.368674  \n",
       "2  0.311173  2.342259  0.332634  \n",
       "3  0.334147  2.405554  0.368975  \n",
       "4  0.234513  2.332180  0.410335  \n",
       "\n",
       "[5 rows x 24 columns]"
      ]
     },
     "execution_count": 138,
     "metadata": {},
     "output_type": "execute_result"
    }
   ],
   "source": [
    "df.head()"
   ]
  },
  {
   "cell_type": "code",
   "execution_count": 139,
   "id": "b4603099-6a9c-40f9-a375-fcc1cc90754c",
   "metadata": {},
   "outputs": [
    {
     "name": "stdout",
     "output_type": "stream",
     "text": [
      "<class 'pandas.core.frame.DataFrame'>\n",
      "RangeIndex: 195 entries, 0 to 194\n",
      "Data columns (total 24 columns):\n",
      " #   Column            Non-Null Count  Dtype  \n",
      "---  ------            --------------  -----  \n",
      " 0   name              195 non-null    object \n",
      " 1   MDVP:Fo(Hz)       195 non-null    float64\n",
      " 2   MDVP:Fhi(Hz)      195 non-null    float64\n",
      " 3   MDVP:Flo(Hz)      195 non-null    float64\n",
      " 4   MDVP:Jitter(%)    195 non-null    float64\n",
      " 5   MDVP:Jitter(Abs)  195 non-null    float64\n",
      " 6   MDVP:RAP          195 non-null    float64\n",
      " 7   MDVP:PPQ          195 non-null    float64\n",
      " 8   Jitter:DDP        195 non-null    float64\n",
      " 9   MDVP:Shimmer      195 non-null    float64\n",
      " 10  MDVP:Shimmer(dB)  195 non-null    float64\n",
      " 11  Shimmer:APQ3      195 non-null    float64\n",
      " 12  Shimmer:APQ5      195 non-null    float64\n",
      " 13  MDVP:APQ          195 non-null    float64\n",
      " 14  Shimmer:DDA       195 non-null    float64\n",
      " 15  NHR               195 non-null    float64\n",
      " 16  HNR               195 non-null    float64\n",
      " 17  status            195 non-null    int64  \n",
      " 18  RPDE              195 non-null    float64\n",
      " 19  DFA               195 non-null    float64\n",
      " 20  spread1           195 non-null    float64\n",
      " 21  spread2           195 non-null    float64\n",
      " 22  D2                195 non-null    float64\n",
      " 23  PPE               195 non-null    float64\n",
      "dtypes: float64(22), int64(1), object(1)\n",
      "memory usage: 36.7+ KB\n"
     ]
    }
   ],
   "source": [
    "df.info()"
   ]
  },
  {
   "cell_type": "code",
   "execution_count": 140,
   "id": "fa41544c-f13b-49e5-b2ad-f4c7beb4bc8c",
   "metadata": {},
   "outputs": [],
   "source": [
    "df.drop(columns=['name'], inplace=True)"
   ]
  },
  {
   "cell_type": "code",
   "execution_count": 141,
   "id": "215aa835-a1c5-4614-a2ec-1a6630c0f289",
   "metadata": {},
   "outputs": [
    {
     "data": {
      "text/plain": [
       "array([1, 0], dtype=int64)"
      ]
     },
     "execution_count": 141,
     "metadata": {},
     "output_type": "execute_result"
    }
   ],
   "source": [
    "df['status'].unique()"
   ]
  },
  {
   "cell_type": "code",
   "execution_count": 142,
   "id": "8fea0453-c089-43e9-a68a-64ee5e5a29c5",
   "metadata": {},
   "outputs": [
    {
     "data": {
      "text/plain": [
       "Text(0.5, 1.0, 'Count Status')"
      ]
     },
     "execution_count": 142,
     "metadata": {},
     "output_type": "execute_result"
    },
    {
     "data": {
      "image/png": "[encoded data removed]",
      "text/plain": [
       "<Figure size 640x480 with 1 Axes>"
      ]
     },
     "metadata": {},
     "output_type": "display_data"
    }
   ],
   "source": [
    "bar, ax = plt.subplots()\n",
    "ax = sns.barplot(df['status'].value_counts())\n",
    "ax.set_title('Count Status')"
   ]
  },
  {
   "cell_type": "code",
   "execution_count": 143,
   "id": "c2e90810-a9fd-4cc1-b6c9-27553f25909c",
   "metadata": {},
   "outputs": [
    {
     "data": {
      "text/plain": [
       "(195, 9)"
      ]
     },
     "execution_count": 143,
     "metadata": {},
     "output_type": "execute_result"
    }
   ],
   "source": [
    "## Normalizando e selecionando os melhores atributos\n",
    "X = df.drop('status', axis=1)\n",
    "X_norm = MinMaxScaler().fit_transform(X)\n",
    "selector = SelectKBest(chi2, k=8)\n",
    "selector.fit(X_norm, df['status'])\n",
    "filtered_columns = selector.get_support()\n",
    "filtered_data = X.loc[:, filtered_columns]\n",
    "filtered_data['status'] = df['status']\n",
    "df = filtered_data\n",
    "df.shape"
   ]
  },
  {
   "cell_type": "markdown",
   "id": "f832f996-3923-489a-84e8-a1bc0e929a1d",
   "metadata": {},
   "source": [
    "Como os dados estão bem desbalanceados vamos utilizar uma métodos chamado Over_Sampling para deixar mais balanceado nossa base"
   ]
  },
  {
   "cell_type": "code",
   "execution_count": 144,
   "id": "30dbf8d3-e217-4d94-9192-ffc530b48c48",
   "metadata": {},
   "outputs": [],
   "source": [
    "# Começando dividindo a base em atributos previsores e rótulos\n",
    "features = df.drop('status', axis=1)\n",
    "labels = df['status']"
   ]
  },
  {
   "cell_type": "code",
   "execution_count": 145,
   "id": "c4616e89-589f-4d5a-a8cc-c953caedb3a4",
   "metadata": {},
   "outputs": [],
   "source": [
    "# Dividimos a base de dados em treino e teste\n",
    "X_train, X_test, y_train, y_test = train_test_split(features, labels, test_size=0.2, random_state=42)"
   ]
  },
  {
   "cell_type": "code",
   "execution_count": 146,
   "id": "17947e92-4229-4652-bf83-4f78d7f8be09",
   "metadata": {},
   "outputs": [
    {
     "data": {
      "text/plain": [
       "((156, 8), (39, 8))"
      ]
     },
     "execution_count": 146,
     "metadata": {},
     "output_type": "execute_result"
    }
   ],
   "source": [
    "X_train.shape, X_test.shape"
   ]
  },
  {
   "cell_type": "code",
   "execution_count": 147,
   "id": "47fab1ce-5b8a-430d-8e92-ca03d296bd0e",
   "metadata": {},
   "outputs": [],
   "source": [
    "# Agora vamos fazer o oversampling de nossos dados\n",
    "ros = RandomOverSampler(sampling_strategy='minority', random_state=0)\n",
    "X, Y = ros.fit_resample(X_train, y_train)"
   ]
  },
  {
   "cell_type": "code",
   "execution_count": 148,
   "id": "1afdbf90-5828-45be-a308-733cc87efbd3",
   "metadata": {},
   "outputs": [
    {
     "data": {
      "text/plain": [
       "status\n",
       "1    115\n",
       "0    115\n",
       "Name: count, dtype: int64"
      ]
     },
     "execution_count": 148,
     "metadata": {},
     "output_type": "execute_result"
    }
   ],
   "source": [
    "# Agora que temos nossos rotulos balanceados podemos iniciar a criação dos nossos modelo\n",
    "Y.value_counts()"
   ]
  },
  {
   "cell_type": "markdown",
   "id": "c7edc481-7c01-4e14-bb71-fbb9f2a6f3a7",
   "metadata": {},
   "source": [
    "# Criando modelos"
   ]
  },
  {
   "cell_type": "code",
   "execution_count": 149,
   "id": "3a3225d0-5b6a-4fa7-baea-5e3eb1cdf500",
   "metadata": {},
   "outputs": [],
   "source": [
    "models = {\n",
    "    'LogisticRegression': LogisticRegression(),\n",
    "    'XBGClassifier': XGBClassifier(),\n",
    "    'SVC': SVC(kernel='rbf', probability=True)\n",
    "}"
   ]
  },
  {
   "cell_type": "markdown",
   "id": "45382807-a678-49c5-9e3d-945ecd42012a",
   "metadata": {},
   "source": [
    "## Avaliando modelos"
   ]
  },
  {
   "cell_type": "code",
   "execution_count": 150,
   "id": "fe6a8e77-c91b-4231-8eb4-0af539e4a026",
   "metadata": {},
   "outputs": [
    {
     "name": "stdout",
     "output_type": "stream",
     "text": [
      "*=**=**=**=**=**=**=**=**=**=**=**=**=**=**=**=**=**=**=**=**=**=**=**=**=**=**=**=**=**=*\n",
      "LogisticRegression:\n",
      "Training Accuracy :  0.8996597353497164\n",
      "Test Accuracy :  0.8571428571428571\n",
      "*=**=**=**=**=**=**=**=**=**=**=**=**=**=**=**=**=**=**=**=**=**=**=**=**=**=**=**=**=**=*\n",
      "XBGClassifier:\n",
      "Training Accuracy :  1.0\n",
      "Test Accuracy :  0.9464285714285714\n",
      "*=**=**=**=**=**=**=**=**=**=**=**=**=**=**=**=**=**=**=**=**=**=**=**=**=**=**=**=**=**=*\n",
      "SVC:\n",
      "Training Accuracy :  0.7132703213610586\n",
      "Test Accuracy :  0.6741071428571428\n"
     ]
    }
   ],
   "source": [
    "model_metrics = {}\n",
    "for k, model in models.items():\n",
    "    print('*=*'*30, sep='\\n\\n\\n')\n",
    "    model.fit(X, Y)\n",
    "    print(f'{k}:')\n",
    "    train_preds = model.predict_proba(X)[:,1]\n",
    "    print('Training Accuracy : ', metrics.roc_auc_score(Y, train_preds))\n",
    "    test_preds = model.predict_proba(X_test)[:,1]\n",
    "    print('Test Accuracy : ', metrics.roc_auc_score(y_test, test_preds))\n",
    "    final_pred = model.predict(X_test)\n",
    "    cm = metrics.confusion_matrix(y_test, final_pred)\n",
    "    model_metrics[k] = cm"
   ]
  },
  {
   "cell_type": "code",
   "execution_count": 151,
   "id": "26fafd3f-f90d-4874-9d11-701b691521c6",
   "metadata": {},
   "outputs": [
    {
     "name": "stdout",
     "output_type": "stream",
     "text": [
      "              precision    recall  f1-score   support\n",
      "\n",
      "           0       0.38      0.43      0.40         7\n",
      "           1       0.87      0.84      0.86        32\n",
      "\n",
      "    accuracy                           0.77        39\n",
      "   macro avg       0.62      0.64      0.63        39\n",
      "weighted avg       0.78      0.77      0.78        39\n",
      "\n"
     ]
    },
    {
     "data": {
      "image/png": "[encoded data removed]",
      "text/plain": [
       "<Figure size 640x480 with 2 Axes>"
      ]
     },
     "metadata": {},
     "output_type": "display_data"
    }
   ],
   "source": [
    "ax = sns.heatmap(model_metrics['SVC'], annot=True);\n",
    "ax.set_title('Confusin Matrix - SVC Model')\n",
    "print(metrics.classification_report(y_test, models['SVC'].predict(X_test)))"
   ]
  },
  {
   "cell_type": "code",
   "execution_count": 152,
   "id": "b81e67ca-02db-45f5-b4c1-8cd0fe25d978",
   "metadata": {},
   "outputs": [
    {
     "name": "stdout",
     "output_type": "stream",
     "text": [
      "              precision    recall  f1-score   support\n",
      "\n",
      "           0       0.57      0.57      0.57         7\n",
      "           1       0.91      0.91      0.91        32\n",
      "\n",
      "    accuracy                           0.85        39\n",
      "   macro avg       0.74      0.74      0.74        39\n",
      "weighted avg       0.85      0.85      0.85        39\n",
      "\n"
     ]
    },
    {
     "data": {
      "image/png": "[encoded data removed]",
      "text/plain": [
       "<Figure size 640x480 with 2 Axes>"
      ]
     },
     "metadata": {},
     "output_type": "display_data"
    }
   ],
   "source": [
    "ax = sns.heatmap(model_metrics['LogisticRegression'], annot=True);\n",
    "ax.set_title('Confusin Matrix - LogisticRegression Model')\n",
    "print(metrics.classification_report(y_test, models['LogisticRegression'].predict(X_test)))"
   ]
  },
  {
   "cell_type": "code",
   "execution_count": 153,
   "id": "291d0282-fd61-49fc-bd11-b9fb3722c3a0",
   "metadata": {},
   "outputs": [
    {
     "name": "stdout",
     "output_type": "stream",
     "text": [
      "              precision    recall  f1-score   support\n",
      "\n",
      "           0       0.75      0.86      0.80         7\n",
      "           1       0.97      0.94      0.95        32\n",
      "\n",
      "    accuracy                           0.92        39\n",
      "   macro avg       0.86      0.90      0.88        39\n",
      "weighted avg       0.93      0.92      0.93        39\n",
      "\n"
     ]
    },
    {
     "data": {
      "image/png": "[encoded data removed]",
      "text/plain": [
       "<Figure size 640x480 with 2 Axes>"
      ]
     },
     "metadata": {},
     "output_type": "display_data"
    }
   ],
   "source": [
    "ax = sns.heatmap(model_metrics['XBGClassifier'], annot=True);\n",
    "ax.set_title('Confusin Matrix - XBGClassifier Model')\n",
    "print(metrics.classification_report(y_test, models['XBGClassifier'].predict(X_test)))"
   ]
  },
  {
   "cell_type": "markdown",
   "id": "e8c91e7d-507f-4173-ac47-440149416b3e",
   "metadata": {},
   "source": [
    "Os modelos em geral conseguem prever os casos em que as pessoas são saudáveis, porem para casos com parkinson o modelo teve um desempenho regular.\n",
    "Nos modelos treinados o que se saiu melhor foi o XBGClassifier para:\n",
    "\n",
    "Casos de pessoas com parkinson:\n",
    "\n",
    "- precision 0.75 e recall 0.86\n",
    "\n",
    "E para casos de pessoas sem parkinson (Saudáveis):\n",
    "\n",
    "- precision 0.97 e recall 0.94\n",
    "\n",
    "Ainda sim não é possivel dizer com certeza se o modelo tem um bom desempenho, devido aos poucos dados, e ainda dados desbalanceados. Pois é possivel que o modelo na maioria dos casos apenas esteja \"Chutando\" os dados com maior número de exemplos da base. aumentando assim sua accurácia."
   ]
  }
 ],
 "metadata": {
  "kernelspec": {
   "display_name": "Python 3 (ipykernel)",
   "language": "python",
   "name": "python3"
  },
  "language_info": {
   "codemirror_mode": {
    "name": "ipython",
    "version": 3
   },
   "file_extension": ".py",
   "mimetype": "text/x-python",
   "name": "python",
   "nbconvert_exporter": "python",
   "pygments_lexer": "ipython3",
   "version": "3.9.13"
  }
 },
 "nbformat": 4,
 "nbformat_minor": 5
}
